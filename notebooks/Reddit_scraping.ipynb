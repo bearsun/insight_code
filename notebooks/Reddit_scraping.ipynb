{
 "cells": [
  {
   "cell_type": "code",
   "execution_count": 1,
   "metadata": {},
   "outputs": [],
   "source": [
    "import praw"
   ]
  },
  {
   "cell_type": "code",
   "execution_count": 2,
   "metadata": {},
   "outputs": [],
   "source": [
    "reddit = praw.Reddit('bot1') # config in ~/.config/praw.ini"
   ]
  },
  {
   "cell_type": "code",
   "execution_count": 3,
   "metadata": {},
   "outputs": [],
   "source": [
    "hot_posts = reddit.subreddit('all').hot(limit=10)"
   ]
  },
  {
   "cell_type": "code",
   "execution_count": 4,
   "metadata": {},
   "outputs": [
    {
     "name": "stdout",
     "output_type": "stream",
     "text": [
      "So inspiring\n",
      "This Banksy is dope.\n",
      "He's on the road to becoming the best of heroes\n",
      "How they filmed Keanu's fall in John Wick 3\n",
      "Turns Out The White House Was Behind Ross’ NOAA Threats After All\n",
      "Dumbfuck America\n",
      "TIL of Rick Rescorla, who saved all but 6 of his 2700 employees during the 9/11 attacks by directing people down the stairs using a bullhorn and encouraging them by singing Cornish songs.\n",
      "Judge Orders Release of Records That Might Tie Saudi Royals to 9/11: Federal judge’s ruling raises hopes that we may better understand any possible ties between Saudi Arabia’s ruling family and the 9/11 hijackers - the vast majority of whom were Saudi citizens.\n",
      "Super Console Sequel\n",
      "[OC] I laid out what a 5' by 5' square was in real life to help my players get some perspective on just how big each map square is.\n"
     ]
    }
   ],
   "source": [
    "for post in hot_posts:\n",
    "    print(post.title)"
   ]
  },
  {
   "cell_type": "code",
   "execution_count": null,
   "metadata": {
    "scrolled": true
   },
   "outputs": [],
   "source": [
    "ml_subreddit = reddit.subreddit('MachineLearning')\n",
    "\n",
    "print(ml_subreddit.description)"
   ]
  },
  {
   "cell_type": "code",
   "execution_count": null,
   "metadata": {},
   "outputs": [],
   "source": [
    "submission = reddit.submission(id = 'd2q90s')"
   ]
  },
  {
   "cell_type": "code",
   "execution_count": null,
   "metadata": {},
   "outputs": [],
   "source": [
    "submission.comments.replace_more(limit=0)\n",
    "for top_level_comment in submission.comments:\n",
    "    print(top_level_comment.body)"
   ]
  },
  {
   "cell_type": "code",
   "execution_count": null,
   "metadata": {},
   "outputs": [],
   "source": [
    "praw.__file__"
   ]
  }
 ],
 "metadata": {
  "kernelspec": {
   "display_name": "Python 3",
   "language": "python",
   "name": "python3"
  },
  "language_info": {
   "codemirror_mode": {
    "name": "ipython",
    "version": 3
   },
   "file_extension": ".py",
   "mimetype": "text/x-python",
   "name": "python",
   "nbconvert_exporter": "python",
   "pygments_lexer": "ipython3",
   "version": "3.6.9"
  }
 },
 "nbformat": 4,
 "nbformat_minor": 2
}
