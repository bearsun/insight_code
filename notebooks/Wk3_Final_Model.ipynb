{
 "cells": [
  {
   "cell_type": "markdown",
   "metadata": {},
   "source": [
    "# Week 3: The Final Ensemble Model\n",
    "### Using SMOTE, Named Entity Recognition, TextRank to optimize the model"
   ]
  },
  {
   "cell_type": "code",
   "execution_count": 1,
   "metadata": {},
   "outputs": [],
   "source": [
    "import re\n",
    "import string\n",
    "import pandas as pd\n",
    "import numpy as np\n",
    "from datetime import datetime\n",
    "import matplotlib.pyplot as plt\n",
    "%matplotlib inline"
   ]
  },
  {
   "cell_type": "markdown",
   "metadata": {},
   "source": [
    "# Load Data"
   ]
  },
  {
   "cell_type": "code",
   "execution_count": 2,
   "metadata": {},
   "outputs": [],
   "source": [
    "dir_data = '../data/nba_reg18/'\n",
    "\n",
    "ds_sub = pd.DataFrame()\n",
    "ds_com = pd.DataFrame()\n",
    "\n",
    "nf_subs = 7 #7 files for submissions\n",
    "nf_coms = 12 #12 files for comments"
   ]
  },
  {
   "cell_type": "code",
   "execution_count": 3,
   "metadata": {},
   "outputs": [],
   "source": [
    "for icom in range(1, nf_subs+1):\n",
    "    path_ds = dir_data + 'nba_submissions_reg18_' + str(icom) + '.csv'\n",
    "    ds_cur = pd.read_csv(path_ds, index_col = 0, parse_dates = ['created'])\n",
    "    ds_sub = ds_sub.append(ds_cur).drop_duplicates()"
   ]
  },
  {
   "cell_type": "code",
   "execution_count": 4,
   "metadata": {},
   "outputs": [],
   "source": [
    "for icom in range(1, nf_coms+1):\n",
    "    path_ds = dir_data + 'nba_comments_reg18_' + str(icom) + '.csv'\n",
    "    ds_cur = pd.read_csv(path_ds, index_col = 0, parse_dates = ['created'])\n",
    "    ds_com = ds_com.append(ds_cur).drop_duplicates()"
   ]
  },
  {
   "cell_type": "code",
   "execution_count": 5,
   "metadata": {},
   "outputs": [
    {
     "name": "stdout",
     "output_type": "stream",
     "text": [
      "No. of threads:\n",
      "92383\n",
      "No. of comments:\n",
      "2064767\n"
     ]
    }
   ],
   "source": [
    "print('No. of threads:')\n",
    "print(ds_sub.shape[0])\n",
    "print('No. of comments:')\n",
    "print(ds_com.shape[0])"
   ]
  },
  {
   "cell_type": "code",
   "execution_count": 6,
   "metadata": {},
   "outputs": [],
   "source": [
    "# put submissions and comments together\n",
    "ds = pd.concat([ds_sub[['author', 'flair', 'title', 'created']].rename(columns = {'flair':'team', 'title':'text'}),\n",
    "                ds_com[['author', 'flair', 'text', 'created']].rename(columns = {'flair':'team'})],\n",
    "               ignore_index = True)"
   ]
  },
  {
   "cell_type": "code",
   "execution_count": 7,
   "metadata": {},
   "outputs": [],
   "source": [
    "# drop empty texts\n",
    "ds.dropna(inplace = True)"
   ]
  },
  {
   "cell_type": "code",
   "execution_count": 8,
   "metadata": {},
   "outputs": [
    {
     "name": "stdout",
     "output_type": "stream",
     "text": [
      "No. of Total Data:\n",
      "1731127\n"
     ]
    }
   ],
   "source": [
    "print('No. of Total Data:')\n",
    "print(ds.shape[0])"
   ]
  },
  {
   "cell_type": "markdown",
   "metadata": {},
   "source": [
    "### Standerdize Team Name"
   ]
  },
  {
   "cell_type": "code",
   "execution_count": 9,
   "metadata": {},
   "outputs": [],
   "source": [
    "import sys\n",
    "sys.path.insert(1, '../scripts') #add my scripts path\n",
    "from teamname_stdize import teamname_stdize"
   ]
  },
  {
   "cell_type": "code",
   "execution_count": 10,
   "metadata": {},
   "outputs": [],
   "source": [
    "# get rid of the weired pandas float nan\n",
    "ds.loc[ds['team'].isnull().values, 'team'] = 'NONE'"
   ]
  },
  {
   "cell_type": "code",
   "execution_count": 11,
   "metadata": {},
   "outputs": [],
   "source": [
    "ds = teamname_stdize(ds)"
   ]
  },
  {
   "cell_type": "code",
   "execution_count": 12,
   "metadata": {},
   "outputs": [],
   "source": [
    "# load team names\n",
    "team_names = pd.read_csv('../data/teams', names = ['name', 'abbrs'])\n",
    "team_abbrs = team_names['abbrs'].to_list()"
   ]
  },
  {
   "cell_type": "code",
   "execution_count": 13,
   "metadata": {},
   "outputs": [
    {
     "name": "stdout",
     "output_type": "stream",
     "text": [
      "No. Total:\n",
      "(1731127, 4)\n",
      "No. for 31 Teams:\n",
      "(1617815, 4)\n"
     ]
    }
   ],
   "source": [
    "print('No. Total:')\n",
    "print(ds.shape)\n",
    "ds = ds.loc[ds['team'].isin(team_abbrs), :]\n",
    "print('No. for 31 Teams:')\n",
    "print(ds.shape)"
   ]
  },
  {
   "cell_type": "code",
   "execution_count": 14,
   "metadata": {},
   "outputs": [],
   "source": [
    "#ds.to_csv('ds_orig.csv')"
   ]
  },
  {
   "cell_type": "markdown",
   "metadata": {},
   "source": [
    "# Text Preprocessing"
   ]
  },
  {
   "cell_type": "code",
   "execution_count": 15,
   "metadata": {},
   "outputs": [],
   "source": [
    "from preprocess import preprocess_one"
   ]
  },
  {
   "cell_type": "code",
   "execution_count": 16,
   "metadata": {},
   "outputs": [],
   "source": [
    "b_punc = True # we do want to remove punctuation\n",
    "ds['text'] = ds['text'].apply(lambda x: preprocess_one(x, b_punc))"
   ]
  },
  {
   "cell_type": "markdown",
   "metadata": {},
   "source": [
    "# Use spacy to do name entity recognition\n",
    "### Implemented in the other script: ../scripts/ner.py"
   ]
  },
  {
   "cell_type": "code",
   "execution_count": 17,
   "metadata": {},
   "outputs": [],
   "source": [
    "ner1 = pd.read_csv('entity1.csv', index_col = 0)\n",
    "ner2 = pd.read_csv('entity2.csv', index_col = 0)\n",
    "ner3 = pd.read_csv('entity3.csv', index_col = 0)"
   ]
  },
  {
   "cell_type": "code",
   "execution_count": 18,
   "metadata": {},
   "outputs": [],
   "source": [
    "ner = pd.concat([ner1,ner2,ner3])"
   ]
  },
  {
   "cell_type": "code",
   "execution_count": 19,
   "metadata": {},
   "outputs": [],
   "source": [
    "ds = ds.join(ner)"
   ]
  },
  {
   "cell_type": "code",
   "execution_count": 20,
   "metadata": {},
   "outputs": [],
   "source": [
    "ds_sub = ds.loc[ds['entity'].notnull(),:]"
   ]
  },
  {
   "cell_type": "code",
   "execution_count": 21,
   "metadata": {
    "scrolled": true
   },
   "outputs": [
    {
     "name": "stdout",
     "output_type": "stream",
     "text": [
      "Original size:\n",
      "1617815\n",
      "Rows with some entities:\n",
      "949634\n"
     ]
    }
   ],
   "source": [
    "print('Original size:')\n",
    "print(ds.shape[0])\n",
    "print('Rows with some entities:')\n",
    "print(ds_sub.shape[0])"
   ]
  },
  {
   "cell_type": "code",
   "execution_count": 22,
   "metadata": {},
   "outputs": [],
   "source": [
    "# No. of Posts per user\n",
    "post_count = ds_sub.groupby(['author'])['text'].count()"
   ]
  },
  {
   "cell_type": "code",
   "execution_count": 23,
   "metadata": {},
   "outputs": [
    {
     "data": {
      "text/plain": [
       "Text(0, 0.5, '# of Users')"
      ]
     },
     "execution_count": 23,
     "metadata": {},
     "output_type": "execute_result"
    },
    {
     "data": {
      "image/png": "[encoded data removed]",
      "text/plain": [
       "<Figure size 720x360 with 1 Axes>"
      ]
     },
     "metadata": {
      "needs_background": "light"
     },
     "output_type": "display_data"
    }
   ],
   "source": [
    "post_count.loc[post_count < 50].hist(bins=100, figsize=(10,5))\n",
    "plt.title('# of Posts by User')\n",
    "plt.xlabel('# of Posts')\n",
    "plt.ylabel('# of Users')"
   ]
  },
  {
   "cell_type": "code",
   "execution_count": 24,
   "metadata": {
    "scrolled": true
   },
   "outputs": [],
   "source": [
    "# concat all texts by users\n",
    "ds_user = ds_sub.groupby(['author', 'team'])['text'].apply(lambda x: ' '.join(x)).reset_index()"
   ]
  },
  {
   "cell_type": "code",
   "execution_count": 25,
   "metadata": {},
   "outputs": [],
   "source": [
    "# concat all entities by users\n",
    "ds_user_ents = ds_sub.groupby(['author', 'team'])['entity'].apply(lambda x: ' '.join(x)).reset_index()"
   ]
  },
  {
   "cell_type": "code",
   "execution_count": 26,
   "metadata": {},
   "outputs": [],
   "source": [
    "ds_user = ds_user.join(ds_user_ents['entity'])"
   ]
  },
  {
   "cell_type": "markdown",
   "metadata": {},
   "source": [
    "# Visit History Data\n",
    "### What other forums (e.g. Lakers forum) did the user comment before?\n",
    "### Scraped in scrap_user_history.ipynb"
   ]
  },
  {
   "cell_type": "code",
   "execution_count": 27,
   "metadata": {},
   "outputs": [],
   "source": [
    "# load history data\n",
    "ds_history = pd.DataFrame()\n",
    "for i in range(1,6):\n",
    "    ds_bot = pd.read_csv('bot'+str(i)+'_final.csv', index_col = 0)\n",
    "    ds_history = ds_history.append(ds_bot)"
   ]
  },
  {
   "cell_type": "code",
   "execution_count": 28,
   "metadata": {},
   "outputs": [],
   "source": [
    "# join history to total data\n",
    "ds_all = ds_user.merge(ds_history, how = 'left', left_on = 'author', right_on = 'user')"
   ]
  },
  {
   "cell_type": "code",
   "execution_count": 29,
   "metadata": {},
   "outputs": [],
   "source": [
    "ds_all.dropna(inplace = True)"
   ]
  },
  {
   "cell_type": "code",
   "execution_count": 30,
   "metadata": {},
   "outputs": [
    {
     "name": "stdout",
     "output_type": "stream",
     "text": [
      "Total data used:\n",
      "56878\n"
     ]
    }
   ],
   "source": [
    "print('Total data used:')\n",
    "print(ds_all.shape[0])"
   ]
  },
  {
   "cell_type": "code",
   "execution_count": 31,
   "metadata": {},
   "outputs": [
    {
     "data": {
      "text/plain": [
       "Text(0, 0.5, '# of Fans')"
      ]
     },
     "execution_count": 31,
     "metadata": {},
     "output_type": "execute_result"
    },
    {
     "data": {
      "image/png": "[encoded data removed]",
      "text/plain": [
       "<Figure size 1152x576 with 1 Axes>"
      ]
     },
     "metadata": {
      "needs_background": "light"
     },
     "output_type": "display_data"
    }
   ],
   "source": [
    "ds_all.groupby('team')['author'].count().sort_values(ascending=False).plot.bar(figsize=(16,8))\n",
    "plt.title('# of Fans by Team')\n",
    "plt.xlabel('Team')\n",
    "plt.ylabel('# of Fans')"
   ]
  },
  {
   "cell_type": "code",
   "execution_count": 32,
   "metadata": {},
   "outputs": [],
   "source": [
    "ds_all.drop(['user', 'count'], axis = 1, inplace = True)"
   ]
  },
  {
   "cell_type": "markdown",
   "metadata": {},
   "source": [
    "# Training and Testing set (80/20)"
   ]
  },
  {
   "cell_type": "code",
   "execution_count": 33,
   "metadata": {},
   "outputs": [],
   "source": [
    "from sklearn.model_selection import train_test_split"
   ]
  },
  {
   "cell_type": "code",
   "execution_count": 34,
   "metadata": {},
   "outputs": [],
   "source": [
    "X_train, X_test, y_train, y_test = train_test_split(ds_all[['text', 'entity', 'history']], \n",
    "                                                    ds_all['team'], test_size=0.20, random_state=0)"
   ]
  },
  {
   "cell_type": "markdown",
   "metadata": {},
   "source": [
    "# MVP Model: TF-IDF and MultinomialNB, using text data as input"
   ]
  },
  {
   "cell_type": "code",
   "execution_count": 35,
   "metadata": {},
   "outputs": [],
   "source": [
    "# feature extraction using tf-idf\n",
    "from sklearn.feature_extraction.text import TfidfVectorizer\n",
    "# Naive Bayes\n",
    "from sklearn.naive_bayes import MultinomialNB\n",
    "from sklearn.pipeline import Pipeline"
   ]
  },
  {
   "cell_type": "code",
   "execution_count": 36,
   "metadata": {},
   "outputs": [],
   "source": [
    "estimators = [('tfidf', TfidfVectorizer(max_features=1000, ngram_range=(1, 1), stop_words='english', max_df=.6)),\n",
    "              ('clf', MultinomialNB())]\n",
    "mvp = Pipeline(estimators)"
   ]
  },
  {
   "cell_type": "code",
   "execution_count": 37,
   "metadata": {
    "scrolled": true
   },
   "outputs": [
    {
     "data": {
      "text/plain": [
       "Pipeline(memory=None,\n",
       "         steps=[('tfidf',\n",
       "                 TfidfVectorizer(analyzer='word', binary=False,\n",
       "                                 decode_error='strict',\n",
       "                                 dtype=<class 'numpy.float64'>,\n",
       "                                 encoding='utf-8', input='content',\n",
       "                                 lowercase=True, max_df=0.6, max_features=1000,\n",
       "                                 min_df=1, ngram_range=(1, 1), norm='l2',\n",
       "                                 preprocessor=None, smooth_idf=True,\n",
       "                                 stop_words='english', strip_accents=None,\n",
       "                                 sublinear_tf=False,\n",
       "                                 token_pattern='(?u)\\\\b\\\\w\\\\w+\\\\b',\n",
       "                                 tokenizer=None, use_idf=True,\n",
       "                                 vocabulary=None)),\n",
       "                ('clf',\n",
       "                 MultinomialNB(alpha=1.0, class_prior=None, fit_prior=True))],\n",
       "         verbose=False)"
      ]
     },
     "execution_count": 37,
     "metadata": {},
     "output_type": "execute_result"
    }
   ],
   "source": [
    "mvp.fit(X_train['text'], y_train)"
   ]
  },
  {
   "cell_type": "code",
   "execution_count": 38,
   "metadata": {},
   "outputs": [
    {
     "name": "stdout",
     "output_type": "stream",
     "text": [
      "Accuracy on training set:\n",
      "0.3080963474133005\n"
     ]
    }
   ],
   "source": [
    "print('Accuracy on training set:')\n",
    "print(mvp.score(X_train['text'], y_train))"
   ]
  },
  {
   "cell_type": "code",
   "execution_count": 39,
   "metadata": {},
   "outputs": [
    {
     "name": "stdout",
     "output_type": "stream",
     "text": [
      "Accuracy on testing set:\n",
      "0.28894163150492264\n"
     ]
    }
   ],
   "source": [
    "print('Accuracy on testing set:')\n",
    "print(mvp.score(X_test['text'], y_test))"
   ]
  },
  {
   "cell_type": "code",
   "execution_count": 40,
   "metadata": {},
   "outputs": [
    {
     "name": "stdout",
     "output_type": "stream",
     "text": [
      "MVP model balanced accuracy:\n",
      "0.19660679214557694\n"
     ]
    }
   ],
   "source": [
    "from sklearn.metrics import balanced_accuracy_score\n",
    "print('MVP model balanced accuracy:')\n",
    "print(balanced_accuracy_score(y_test, mvp.predict(X_test['text'])))"
   ]
  },
  {
   "cell_type": "code",
   "execution_count": 41,
   "metadata": {},
   "outputs": [
    {
     "name": "stdout",
     "output_type": "stream",
     "text": [
      "MVP model micro AUC:\n",
      "0.7991945866038864\n"
     ]
    }
   ],
   "source": [
    "from cal_auc import cal_auc\n",
    "print('MVP model micro AUC:')\n",
    "print(cal_auc(mvp, X_test['text'], y_test, 'micro'))"
   ]
  },
  {
   "cell_type": "code",
   "execution_count": 42,
   "metadata": {},
   "outputs": [
    {
     "name": "stdout",
     "output_type": "stream",
     "text": [
      "MVP model macro AUC:\n",
      "0.7556733658490712\n"
     ]
    }
   ],
   "source": [
    "print('MVP model macro AUC:')\n",
    "print(cal_auc(mvp, X_test['text'], y_test, 'macro'))"
   ]
  },
  {
   "cell_type": "code",
   "execution_count": 43,
   "metadata": {},
   "outputs": [
    {
     "name": "stdout",
     "output_type": "stream",
     "text": [
      "MVP model weighted AUC:\n",
      "0.7565973319736987\n"
     ]
    }
   ],
   "source": [
    "print('MVP model weighted AUC:')\n",
    "print(cal_auc(mvp, X_test['text'], y_test, 'weighted'))"
   ]
  },
  {
   "cell_type": "code",
   "execution_count": 44,
   "metadata": {},
   "outputs": [
    {
     "name": "stdout",
     "output_type": "stream",
     "text": [
      "MVP model MCC:\n",
      "0.2544940071087173\n"
     ]
    }
   ],
   "source": [
    "from sklearn.metrics import matthews_corrcoef\n",
    "print('MVP model MCC:')\n",
    "print(matthews_corrcoef(y_test, mvp.predict(X_test['text'])))"
   ]
  },
  {
   "cell_type": "code",
   "execution_count": 45,
   "metadata": {},
   "outputs": [
    {
     "name": "stdout",
     "output_type": "stream",
     "text": [
      "              precision    recall  f1-score   support\n",
      "\n",
      "         ATL       0.59      0.14      0.23       155\n",
      "         BKN       0.46      0.08      0.14       213\n",
      "         BOS       0.37      0.36      0.37       811\n",
      "         CHA       0.69      0.17      0.28       143\n",
      "         CHI       0.43      0.16      0.23       477\n",
      "         CLE       0.52      0.04      0.08       400\n",
      "         DAL       0.57      0.33      0.41       414\n",
      "         DEN       0.71      0.20      0.31       209\n",
      "         DET       0.65      0.18      0.29       240\n",
      "         GSW       0.32      0.35      0.34       753\n",
      "         HOU       0.56      0.22      0.32       459\n",
      "         IND       0.81      0.09      0.16       190\n",
      "         LAC       0.71      0.03      0.06       166\n",
      "         LAL       0.15      0.78      0.26      1157\n",
      "         MEM       0.82      0.07      0.13       131\n",
      "         MIA       0.50      0.05      0.09       251\n",
      "         MIL       0.54      0.17      0.26       341\n",
      "         MIN       0.64      0.23      0.34       298\n",
      "         NOP       1.00      0.03      0.05       117\n",
      "         NYK       0.44      0.15      0.23       497\n",
      "         OKC       0.57      0.26      0.36       452\n",
      "         ORL       0.60      0.02      0.04       148\n",
      "         PHI       0.49      0.33      0.39       649\n",
      "         PHX       0.61      0.19      0.30       221\n",
      "         POR       0.66      0.20      0.31       325\n",
      "         SAC       0.65      0.15      0.25       205\n",
      "         SAS       0.64      0.19      0.30       437\n",
      "         SEA       0.00      0.00      0.00       170\n",
      "         TOR       0.30      0.50      0.38       898\n",
      "         UTA       0.61      0.34      0.43       229\n",
      "         WAS       0.54      0.07      0.12       220\n",
      "\n",
      "    accuracy                           0.29     11376\n",
      "   macro avg       0.55      0.20      0.24     11376\n",
      "weighted avg       0.47      0.29      0.28     11376\n",
      "\n"
     ]
    },
    {
     "name": "stderr",
     "output_type": "stream",
     "text": [
      "/home/bearsun/anaconda3/envs/insight/lib/python3.6/site-packages/sklearn/metrics/classification.py:1437: UndefinedMetricWarning: Precision and F-score are ill-defined and being set to 0.0 in labels with no predicted samples.\n",
      "  'precision', 'predicted', average, warn_for)\n"
     ]
    }
   ],
   "source": [
    "from sklearn.metrics import classification_report\n",
    "print(classification_report(y_test, mvp.predict(X_test['text'])))"
   ]
  },
  {
   "cell_type": "code",
   "execution_count": 46,
   "metadata": {},
   "outputs": [],
   "source": [
    "pred_mvp_logp = mvp.predict_log_proba(X_test['text'])"
   ]
  },
  {
   "cell_type": "code",
   "execution_count": 47,
   "metadata": {},
   "outputs": [],
   "source": [
    "pred_train_mvp_logp = mvp.predict_log_proba(X_train['text'])"
   ]
  },
  {
   "cell_type": "markdown",
   "metadata": {},
   "source": [
    "# Model 2: TF-IDF, SMOTE and MultinomialNB, using recognized entities as input"
   ]
  },
  {
   "cell_type": "code",
   "execution_count": 48,
   "metadata": {},
   "outputs": [],
   "source": [
    "from imblearn.pipeline import Pipeline\n",
    "from imblearn.over_sampling import SMOTE"
   ]
  },
  {
   "cell_type": "code",
   "execution_count": 49,
   "metadata": {},
   "outputs": [],
   "source": [
    "model2 = Pipeline([('tfidf', TfidfVectorizer(max_features=1000, ngram_range=(1, 1), stop_words='english', max_df=.6)),\n",
    "                   ('sampling', SMOTE(random_state = 0)),\n",
    "                   ('clf', MultinomialNB())\n",
    "                   ])"
   ]
  },
  {
   "cell_type": "code",
   "execution_count": 50,
   "metadata": {
    "scrolled": false
   },
   "outputs": [
    {
     "data": {
      "text/plain": [
       "Pipeline(memory=None,\n",
       "         steps=[('tfidf',\n",
       "                 TfidfVectorizer(analyzer='word', binary=False,\n",
       "                                 decode_error='strict',\n",
       "                                 dtype=<class 'numpy.float64'>,\n",
       "                                 encoding='utf-8', input='content',\n",
       "                                 lowercase=True, max_df=0.6, max_features=1000,\n",
       "                                 min_df=1, ngram_range=(1, 1), norm='l2',\n",
       "                                 preprocessor=None, smooth_idf=True,\n",
       "                                 stop_words='english', strip_accents=None,\n",
       "                                 sublinear_tf=False,\n",
       "                                 token_pattern='(?u)\\\\b\\\\w\\\\w+\\\\b',\n",
       "                                 tokenizer=None, use_idf=True,\n",
       "                                 vocabulary=None)),\n",
       "                ('sampling',\n",
       "                 SMOTE(k_neighbors=5, kind='deprecated',\n",
       "                       m_neighbors='deprecated', n_jobs=1,\n",
       "                       out_step='deprecated', random_state=0, ratio=None,\n",
       "                       sampling_strategy='auto', svm_estimator='deprecated')),\n",
       "                ('clf',\n",
       "                 MultinomialNB(alpha=1.0, class_prior=None, fit_prior=True))],\n",
       "         verbose=False)"
      ]
     },
     "execution_count": 50,
     "metadata": {},
     "output_type": "execute_result"
    }
   ],
   "source": [
    "model2.fit(X_train['entity'], y_train)"
   ]
  },
  {
   "cell_type": "code",
   "execution_count": 51,
   "metadata": {},
   "outputs": [
    {
     "name": "stdout",
     "output_type": "stream",
     "text": [
      "Accuracy on training set:\n",
      "0.3737418135466573\n"
     ]
    }
   ],
   "source": [
    "print('Accuracy on training set:')\n",
    "print(model2.score(X_train['entity'], y_train))"
   ]
  },
  {
   "cell_type": "code",
   "execution_count": 52,
   "metadata": {},
   "outputs": [
    {
     "name": "stdout",
     "output_type": "stream",
     "text": [
      "Accuracy on testing set:\n",
      "0.34906821378340364\n"
     ]
    }
   ],
   "source": [
    "print('Accuracy on testing set:')\n",
    "print(model2.score(X_test['entity'], y_test))"
   ]
  },
  {
   "cell_type": "code",
   "execution_count": 53,
   "metadata": {},
   "outputs": [
    {
     "name": "stdout",
     "output_type": "stream",
     "text": [
      "Model 2 balanced accuracy:\n",
      "0.3578964831868031\n"
     ]
    }
   ],
   "source": [
    "print('Model 2 balanced accuracy:')\n",
    "print(balanced_accuracy_score(y_test, model2.predict(X_test['entity'])))"
   ]
  },
  {
   "cell_type": "code",
   "execution_count": 54,
   "metadata": {},
   "outputs": [
    {
     "name": "stdout",
     "output_type": "stream",
     "text": [
      "Model2 micro AUC:\n",
      "0.7907391363213232\n"
     ]
    }
   ],
   "source": [
    "print('Model2 micro AUC:')\n",
    "print(cal_auc(model2, X_test['entity'], y_test, 'micro'))"
   ]
  },
  {
   "cell_type": "code",
   "execution_count": 55,
   "metadata": {},
   "outputs": [
    {
     "name": "stdout",
     "output_type": "stream",
     "text": [
      "Model2 macro AUC:\n",
      "0.7723999238800217\n"
     ]
    }
   ],
   "source": [
    "print('Model2 macro AUC:')\n",
    "print(cal_auc(model2, X_test['entity'], y_test, 'macro'))"
   ]
  },
  {
   "cell_type": "code",
   "execution_count": 56,
   "metadata": {},
   "outputs": [
    {
     "name": "stdout",
     "output_type": "stream",
     "text": [
      "Model2 weighted AUC:\n",
      "0.7676767243585525\n"
     ]
    }
   ],
   "source": [
    "print('Model2 weighted AUC:')\n",
    "print(cal_auc(model2, X_test['entity'], y_test, 'weighted'))"
   ]
  },
  {
   "cell_type": "code",
   "execution_count": 57,
   "metadata": {
    "scrolled": false
   },
   "outputs": [
    {
     "name": "stdout",
     "output_type": "stream",
     "text": [
      "Model2 MCC:\n",
      "0.32477539318536575\n"
     ]
    }
   ],
   "source": [
    "print('Model2 MCC:')\n",
    "print(matthews_corrcoef(y_test.values, model2.predict(X_test['entity'])))"
   ]
  },
  {
   "cell_type": "code",
   "execution_count": 58,
   "metadata": {},
   "outputs": [
    {
     "name": "stdout",
     "output_type": "stream",
     "text": [
      "              precision    recall  f1-score   support\n",
      "\n",
      "         ATL       0.07      0.45      0.13       155\n",
      "         BKN       0.34      0.39      0.36       213\n",
      "         BOS       0.49      0.32      0.38       811\n",
      "         CHA       0.29      0.38      0.33       143\n",
      "         CHI       0.34      0.24      0.28       477\n",
      "         CLE       0.24      0.29      0.26       400\n",
      "         DAL       0.46      0.44      0.45       414\n",
      "         DEN       0.30      0.44      0.36       209\n",
      "         DET       0.33      0.34      0.34       240\n",
      "         GSW       0.40      0.36      0.38       753\n",
      "         HOU       0.35      0.37      0.36       459\n",
      "         IND       0.31      0.37      0.34       190\n",
      "         LAC       0.22      0.33      0.26       166\n",
      "         LAL       0.50      0.30      0.37      1157\n",
      "         MEM       0.26      0.36      0.30       131\n",
      "         MIA       0.20      0.21      0.20       251\n",
      "         MIL       0.37      0.42      0.39       341\n",
      "         MIN       0.39      0.45      0.42       298\n",
      "         NOP       0.20      0.43      0.27       117\n",
      "         NYK       0.37      0.30      0.33       497\n",
      "         OKC       0.44      0.38      0.41       452\n",
      "         ORL       0.22      0.33      0.27       148\n",
      "         PHI       0.50      0.33      0.40       649\n",
      "         PHX       0.37      0.42      0.39       221\n",
      "         POR       0.44      0.32      0.37       325\n",
      "         SAC       0.38      0.50      0.43       205\n",
      "         SAS       0.47      0.35      0.40       437\n",
      "         SEA       0.04      0.08      0.05       170\n",
      "         TOR       0.63      0.39      0.49       898\n",
      "         UTA       0.41      0.52      0.45       229\n",
      "         WAS       0.31      0.31      0.31       220\n",
      "\n",
      "    accuracy                           0.35     11376\n",
      "   macro avg       0.34      0.36      0.34     11376\n",
      "weighted avg       0.40      0.35      0.36     11376\n",
      "\n"
     ]
    }
   ],
   "source": [
    "print(classification_report(y_test, model2.predict(X_test['entity'])))"
   ]
  },
  {
   "cell_type": "code",
   "execution_count": 59,
   "metadata": {},
   "outputs": [],
   "source": [
    "pred_model2_logp = model2.predict_log_proba(X_test['entity'])"
   ]
  },
  {
   "cell_type": "code",
   "execution_count": 60,
   "metadata": {},
   "outputs": [],
   "source": [
    "pred_train_model2_logp = model2.predict_log_proba(X_train['entity'])"
   ]
  },
  {
   "cell_type": "markdown",
   "metadata": {},
   "source": [
    "#  Model 3: TextRank + CountVectorizer + SMOTE and MultinomialNB, using recognized entities as input\n",
    "### TextRank was done by gensim in ../scripts/textrank.py"
   ]
  },
  {
   "cell_type": "code",
   "execution_count": 61,
   "metadata": {},
   "outputs": [],
   "source": [
    "# read textrank vocabulary\n",
    "f = open('kwords2.txt','r')\n",
    "kwords = f.read()\n",
    "f.close()\n",
    "vocabulary = kwords.split('@')"
   ]
  },
  {
   "cell_type": "code",
   "execution_count": 62,
   "metadata": {},
   "outputs": [],
   "source": [
    "from sklearn.feature_extraction.text import CountVectorizer"
   ]
  },
  {
   "cell_type": "code",
   "execution_count": 63,
   "metadata": {},
   "outputs": [],
   "source": [
    "model3 = Pipeline([('bow', CountVectorizer(vocabulary=vocabulary[:1000])),\n",
    "                   ('sampling', SMOTE(random_state = 0)),\n",
    "                   ('clf', MultinomialNB())])"
   ]
  },
  {
   "cell_type": "code",
   "execution_count": 64,
   "metadata": {},
   "outputs": [
    {
     "data": {
      "text/plain": [
       "Pipeline(memory=None,\n",
       "         steps=[('bow',\n",
       "                 CountVectorizer(analyzer='word', binary=False,\n",
       "                                 decode_error='strict',\n",
       "                                 dtype=<class 'numpy.int64'>, encoding='utf-8',\n",
       "                                 input='content', lowercase=True, max_df=1.0,\n",
       "                                 max_features=None, min_df=1,\n",
       "                                 ngram_range=(1, 1), preprocessor=None,\n",
       "                                 stop_words=None, strip_accents=None,\n",
       "                                 token_pattern='(?u)\\\\b\\\\w\\\\w+\\\\b',\n",
       "                                 tokenizer=None,\n",
       "                                 vocabulary=['nb...\n",
       "                                             'giannis', 'gianni', 'giannies',\n",
       "                                             'kawhi', 'kawhis', 'kyrie',\n",
       "                                             'kyries', 'kyri', 'minutes', ...])),\n",
       "                ('sampling',\n",
       "                 SMOTE(k_neighbors=5, kind='deprecated',\n",
       "                       m_neighbors='deprecated', n_jobs=1,\n",
       "                       out_step='deprecated', random_state=0, ratio=None,\n",
       "                       sampling_strategy='auto', svm_estimator='deprecated')),\n",
       "                ('clf',\n",
       "                 MultinomialNB(alpha=1.0, class_prior=None, fit_prior=True))],\n",
       "         verbose=False)"
      ]
     },
     "execution_count": 64,
     "metadata": {},
     "output_type": "execute_result"
    }
   ],
   "source": [
    "model3.fit(X_train['entity'], y_train)"
   ]
  },
  {
   "cell_type": "code",
   "execution_count": 65,
   "metadata": {},
   "outputs": [
    {
     "name": "stdout",
     "output_type": "stream",
     "text": [
      "Accuracy on training set:\n",
      "0.32271108962243417\n"
     ]
    }
   ],
   "source": [
    "print('Accuracy on training set:')\n",
    "print(model3.score(X_train['entity'], y_train))"
   ]
  },
  {
   "cell_type": "code",
   "execution_count": 66,
   "metadata": {},
   "outputs": [
    {
     "name": "stdout",
     "output_type": "stream",
     "text": [
      "Accuracy on testing set:\n",
      "0.31795007032348804\n"
     ]
    }
   ],
   "source": [
    "print('Accuracy on testing set:')\n",
    "print(model3.score(X_test['entity'], y_test))"
   ]
  },
  {
   "cell_type": "code",
   "execution_count": 67,
   "metadata": {},
   "outputs": [
    {
     "name": "stdout",
     "output_type": "stream",
     "text": [
      "Model 3 balanced accuracy:\n",
      "0.3280856588611431\n"
     ]
    }
   ],
   "source": [
    "from sklearn.metrics import balanced_accuracy_score\n",
    "print('Model 3 balanced accuracy:')\n",
    "print(balanced_accuracy_score(y_test, model3.predict(X_test['entity'])))"
   ]
  },
  {
   "cell_type": "code",
   "execution_count": 68,
   "metadata": {
    "scrolled": true
   },
   "outputs": [
    {
     "name": "stdout",
     "output_type": "stream",
     "text": [
      "Model3 micro AUC:\n",
      "0.7697328497171729\n"
     ]
    }
   ],
   "source": [
    "print('Model3 micro AUC:')\n",
    "print(cal_auc(model3, X_test['entity'], y_test, 'micro'))"
   ]
  },
  {
   "cell_type": "code",
   "execution_count": 69,
   "metadata": {},
   "outputs": [
    {
     "name": "stdout",
     "output_type": "stream",
     "text": [
      "Model3 macro AUC:\n",
      "0.7584220585944997\n"
     ]
    }
   ],
   "source": [
    "print('Model3 macro AUC:')\n",
    "print(cal_auc(model3, X_test['entity'], y_test, 'macro'))"
   ]
  },
  {
   "cell_type": "code",
   "execution_count": 70,
   "metadata": {},
   "outputs": [
    {
     "name": "stdout",
     "output_type": "stream",
     "text": [
      "Model3 weighted AUC:\n",
      "0.7569383430295958\n"
     ]
    }
   ],
   "source": [
    "print('Model3 weighted AUC:')\n",
    "print(cal_auc(model3, X_test['entity'], y_test, 'weighted'))"
   ]
  },
  {
   "cell_type": "code",
   "execution_count": 71,
   "metadata": {},
   "outputs": [
    {
     "name": "stdout",
     "output_type": "stream",
     "text": [
      "Model3 MCC:\n",
      "0.2943931013494082\n"
     ]
    }
   ],
   "source": [
    "print('Model3 MCC:')\n",
    "print(matthews_corrcoef(y_test.values, model3.predict(X_test['entity'])))"
   ]
  },
  {
   "cell_type": "code",
   "execution_count": 72,
   "metadata": {},
   "outputs": [
    {
     "name": "stdout",
     "output_type": "stream",
     "text": [
      "              precision    recall  f1-score   support\n",
      "\n",
      "         ATL       0.06      0.50      0.10       155\n",
      "         BKN       0.27      0.35      0.30       213\n",
      "         BOS       0.46      0.29      0.36       811\n",
      "         CHA       0.33      0.39      0.36       143\n",
      "         CHI       0.31      0.22      0.26       477\n",
      "         CLE       0.22      0.26      0.23       400\n",
      "         DAL       0.43      0.43      0.43       414\n",
      "         DEN       0.40      0.44      0.42       209\n",
      "         DET       0.30      0.32      0.31       240\n",
      "         GSW       0.40      0.33      0.36       753\n",
      "         HOU       0.39      0.34      0.37       459\n",
      "         IND       0.27      0.32      0.29       190\n",
      "         LAC       0.21      0.34      0.26       166\n",
      "         LAL       0.48      0.25      0.33      1157\n",
      "         MEM       0.21      0.34      0.26       131\n",
      "         MIA       0.22      0.17      0.19       251\n",
      "         MIL       0.36      0.37      0.36       341\n",
      "         MIN       0.39      0.44      0.41       298\n",
      "         NOP       0.17      0.40      0.24       117\n",
      "         NYK       0.36      0.25      0.29       497\n",
      "         OKC       0.45      0.36      0.40       452\n",
      "         ORL       0.15      0.24      0.18       148\n",
      "         PHI       0.42      0.29      0.35       649\n",
      "         PHX       0.42      0.38      0.40       221\n",
      "         POR       0.34      0.30      0.32       325\n",
      "         SAC       0.32      0.45      0.37       205\n",
      "         SAS       0.39      0.28      0.33       437\n",
      "         SEA       0.02      0.04      0.03       170\n",
      "         TOR       0.58      0.37      0.45       898\n",
      "         UTA       0.42      0.46      0.44       229\n",
      "         WAS       0.24      0.24      0.24       220\n",
      "\n",
      "    accuracy                           0.32     11376\n",
      "   macro avg       0.32      0.33      0.31     11376\n",
      "weighted avg       0.38      0.32      0.34     11376\n",
      "\n"
     ]
    }
   ],
   "source": [
    "print(classification_report(y_test, model3.predict(X_test['entity'])))"
   ]
  },
  {
   "cell_type": "code",
   "execution_count": 73,
   "metadata": {},
   "outputs": [],
   "source": [
    "pred_model3_logp = model3.predict_log_proba(X_test['entity'])"
   ]
  },
  {
   "cell_type": "code",
   "execution_count": 74,
   "metadata": {},
   "outputs": [],
   "source": [
    "pred_train_model3_logp = model3.predict_log_proba(X_train['entity'])"
   ]
  },
  {
   "cell_type": "markdown",
   "metadata": {},
   "source": [
    "# Model 4: TF-IDF, SMOTE and MultinomialNB, using Visit History Data"
   ]
  },
  {
   "cell_type": "code",
   "execution_count": 75,
   "metadata": {},
   "outputs": [],
   "source": [
    "model4 = Pipeline([('tfidf', TfidfVectorizer(max_features=1000, ngram_range=(1, 1), stop_words='english', max_df=.6)),\n",
    "                   ('sampling', SMOTE(random_state=0)),\n",
    "                   ('clf', MultinomialNB())])"
   ]
  },
  {
   "cell_type": "code",
   "execution_count": 76,
   "metadata": {},
   "outputs": [
    {
     "data": {
      "text/plain": [
       "Pipeline(memory=None,\n",
       "         steps=[('tfidf',\n",
       "                 TfidfVectorizer(analyzer='word', binary=False,\n",
       "                                 decode_error='strict',\n",
       "                                 dtype=<class 'numpy.float64'>,\n",
       "                                 encoding='utf-8', input='content',\n",
       "                                 lowercase=True, max_df=0.6, max_features=1000,\n",
       "                                 min_df=1, ngram_range=(1, 1), norm='l2',\n",
       "                                 preprocessor=None, smooth_idf=True,\n",
       "                                 stop_words='english', strip_accents=None,\n",
       "                                 sublinear_tf=False,\n",
       "                                 token_pattern='(?u)\\\\b\\\\w\\\\w+\\\\b',\n",
       "                                 tokenizer=None, use_idf=True,\n",
       "                                 vocabulary=None)),\n",
       "                ('sampling',\n",
       "                 SMOTE(k_neighbors=5, kind='deprecated',\n",
       "                       m_neighbors='deprecated', n_jobs=1,\n",
       "                       out_step='deprecated', random_state=0, ratio=None,\n",
       "                       sampling_strategy='auto', svm_estimator='deprecated')),\n",
       "                ('clf',\n",
       "                 MultinomialNB(alpha=1.0, class_prior=None, fit_prior=True))],\n",
       "         verbose=False)"
      ]
     },
     "execution_count": 76,
     "metadata": {},
     "output_type": "execute_result"
    }
   ],
   "source": [
    "model4.fit(X_train['history'], y_train)"
   ]
  },
  {
   "cell_type": "code",
   "execution_count": 77,
   "metadata": {},
   "outputs": [
    {
     "name": "stdout",
     "output_type": "stream",
     "text": [
      "Accuracy on training set:\n",
      "0.6052261439057623\n"
     ]
    }
   ],
   "source": [
    "print('Accuracy on training set:')\n",
    "print(model4.score(X_train['history'], y_train))"
   ]
  },
  {
   "cell_type": "code",
   "execution_count": 78,
   "metadata": {},
   "outputs": [
    {
     "name": "stdout",
     "output_type": "stream",
     "text": [
      "Accuracy on testing set:\n",
      "0.555028129395218\n"
     ]
    }
   ],
   "source": [
    "print('Accuracy on testing set:')\n",
    "print(model4.score(X_test['history'], y_test))"
   ]
  },
  {
   "cell_type": "code",
   "execution_count": 79,
   "metadata": {},
   "outputs": [
    {
     "name": "stdout",
     "output_type": "stream",
     "text": [
      "Model 4 balanced accuracy:\n",
      "0.5461553912246749\n"
     ]
    }
   ],
   "source": [
    "from sklearn.metrics import balanced_accuracy_score\n",
    "print('Model 4 balanced accuracy:')\n",
    "print(balanced_accuracy_score(y_test, model4.predict(X_test['history'])))"
   ]
  },
  {
   "cell_type": "code",
   "execution_count": 80,
   "metadata": {},
   "outputs": [
    {
     "name": "stdout",
     "output_type": "stream",
     "text": [
      "Model4 micro AUC:\n",
      "0.8989468623397939\n"
     ]
    }
   ],
   "source": [
    "print('Model4 micro AUC:')\n",
    "print(cal_auc(model4, X_test['history'], y_test, 'micro'))"
   ]
  },
  {
   "cell_type": "code",
   "execution_count": 81,
   "metadata": {},
   "outputs": [
    {
     "name": "stdout",
     "output_type": "stream",
     "text": [
      "Model4 macro AUC:\n",
      "0.8848898704920578\n"
     ]
    }
   ],
   "source": [
    "print('Model4 macro AUC:')\n",
    "print(cal_auc(model4, X_test['history'], y_test, 'macro'))"
   ]
  },
  {
   "cell_type": "code",
   "execution_count": 82,
   "metadata": {},
   "outputs": [
    {
     "name": "stdout",
     "output_type": "stream",
     "text": [
      "Model4 weighted AUC:\n",
      "0.8906722535174615\n"
     ]
    }
   ],
   "source": [
    "print('Model4 weighted AUC:')\n",
    "print(cal_auc(model4, X_test['history'], y_test, 'weighted'))"
   ]
  },
  {
   "cell_type": "code",
   "execution_count": 83,
   "metadata": {},
   "outputs": [
    {
     "name": "stdout",
     "output_type": "stream",
     "text": [
      "Model4 MCC:\n",
      "0.536666824547824\n"
     ]
    }
   ],
   "source": [
    "print('Model4 MCC:')\n",
    "print(matthews_corrcoef(y_test.values, model4.predict(X_test['history'])))"
   ]
  },
  {
   "cell_type": "code",
   "execution_count": 84,
   "metadata": {},
   "outputs": [
    {
     "name": "stdout",
     "output_type": "stream",
     "text": [
      "              precision    recall  f1-score   support\n",
      "\n",
      "         ATL       0.36      0.60      0.45       155\n",
      "         BKN       0.33      0.48      0.39       213\n",
      "         BOS       0.87      0.57      0.69       811\n",
      "         CHA       0.31      0.54      0.40       143\n",
      "         CHI       0.66      0.51      0.58       477\n",
      "         CLE       0.61      0.48      0.54       400\n",
      "         DAL       0.62      0.49      0.55       414\n",
      "         DEN       0.57      0.56      0.57       209\n",
      "         DET       0.43      0.53      0.48       240\n",
      "         GSW       0.54      0.56      0.55       753\n",
      "         HOU       0.76      0.55      0.63       459\n",
      "         IND       0.49      0.53      0.51       190\n",
      "         LAC       0.33      0.51      0.40       166\n",
      "         LAL       0.68      0.51      0.58      1157\n",
      "         MEM       0.35      0.47      0.40       131\n",
      "         MIA       0.40      0.45      0.42       251\n",
      "         MIL       0.72      0.61      0.66       341\n",
      "         MIN       0.73      0.61      0.67       298\n",
      "         NOP       0.21      0.49      0.29       117\n",
      "         NYK       0.60      0.53      0.56       497\n",
      "         OKC       0.50      0.52      0.51       452\n",
      "         ORL       0.43      0.48      0.45       148\n",
      "         PHI       0.78      0.60      0.68       649\n",
      "         PHX       0.77      0.61      0.68       221\n",
      "         POR       0.79      0.60      0.68       325\n",
      "         SAC       0.68      0.65      0.67       205\n",
      "         SAS       0.38      0.53      0.44       437\n",
      "         SEA       0.13      0.45      0.20       170\n",
      "         TOR       0.75      0.69      0.72       898\n",
      "         UTA       0.47      0.66      0.55       229\n",
      "         WAS       0.48      0.56      0.52       220\n",
      "\n",
      "    accuracy                           0.56     11376\n",
      "   macro avg       0.54      0.55      0.53     11376\n",
      "weighted avg       0.61      0.56      0.57     11376\n",
      "\n"
     ]
    }
   ],
   "source": [
    "print(classification_report(y_test, model4.predict(X_test['history'])))"
   ]
  },
  {
   "cell_type": "code",
   "execution_count": 85,
   "metadata": {},
   "outputs": [],
   "source": [
    "pred_model4_logp = model4.predict_log_proba(X_test['history'])"
   ]
  },
  {
   "cell_type": "code",
   "execution_count": 86,
   "metadata": {},
   "outputs": [],
   "source": [
    "pred_train_model4_logp = model4.predict_log_proba(X_train['history'])"
   ]
  },
  {
   "cell_type": "markdown",
   "metadata": {},
   "source": [
    "# Ensemble Model: Add 4 predict_log_proba together to make prediction"
   ]
  },
  {
   "cell_type": "code",
   "execution_count": 87,
   "metadata": {},
   "outputs": [],
   "source": [
    "# put all log_prob for each sample together to compare them\n",
    "pred_logp = np.concatenate((pred_mvp_logp.reshape(1,-1), pred_model2_logp.reshape(1,-1),\n",
    "                           pred_model3_logp.reshape(1,-1), pred_model4_logp.reshape(1,-1)))\n",
    "ds_logp = pd.DataFrame(pred_logp.transpose(), columns = ['MVP', 'NER', 'NER+TEXTRANK', 'History'])"
   ]
  },
  {
   "cell_type": "code",
   "execution_count": 88,
   "metadata": {},
   "outputs": [],
   "source": [
    "import seaborn as sns"
   ]
  },
  {
   "cell_type": "code",
   "execution_count": 89,
   "metadata": {},
   "outputs": [
    {
     "data": {
      "text/plain": [
       "<seaborn.axisgrid.PairGrid at 0x7f869529c470>"
      ]
     },
     "execution_count": 89,
     "metadata": {},
     "output_type": "execute_result"
    },
    {
     "data": {
      "image/png": "[encoded data removed]",
      "text/plain": [
       "<Figure size 720x720 with 20 Axes>"
      ]
     },
     "metadata": {
      "needs_background": "light"
     },
     "output_type": "display_data"
    }
   ],
   "source": [
    "# correlation between predictions\n",
    "sns.pairplot(ds_logp)"
   ]
  },
  {
   "cell_type": "code",
   "execution_count": 90,
   "metadata": {},
   "outputs": [],
   "source": [
    "# combine training data logp as 4 features\n",
    "pred_train_logp = np.concatenate((pred_train_mvp_logp, pred_train_model2_logp,\n",
    "                           pred_train_model3_logp, pred_train_model4_logp), axis = 1)"
   ]
  },
  {
   "cell_type": "code",
   "execution_count": 91,
   "metadata": {},
   "outputs": [],
   "source": [
    "# combine testing data logp as 4 features for testing set\n",
    "pred_test_logp = np.concatenate((pred_mvp_logp, pred_model2_logp,\n",
    "                                 pred_model3_logp, pred_model4_logp), axis=1)"
   ]
  },
  {
   "cell_type": "markdown",
   "metadata": {},
   "source": [
    "### Fit a Logistic Regression model on the training set, which takes the predict_log_probability from 4 models as inputs/features (31 classes * 4 models = 124 features)"
   ]
  },
  {
   "cell_type": "code",
   "execution_count": 92,
   "metadata": {
    "scrolled": true
   },
   "outputs": [
    {
     "data": {
      "text/plain": [
       "LogisticRegression(C=1.0, class_weight=None, dual=False, fit_intercept=True,\n",
       "                   intercept_scaling=1, l1_ratio=None, max_iter=100,\n",
       "                   multi_class='ovr', n_jobs=3, penalty='l2', random_state=None,\n",
       "                   solver='lbfgs', tol=0.0001, verbose=0, warm_start=False)"
      ]
     },
     "execution_count": 92,
     "metadata": {},
     "output_type": "execute_result"
    }
   ],
   "source": [
    "from sklearn.linear_model import LogisticRegression\n",
    "ensemble = LogisticRegression(solver = 'lbfgs', multi_class = 'ovr', n_jobs = 3)\n",
    "ensemble.fit(pred_train_logp, y_train)"
   ]
  },
  {
   "cell_type": "code",
   "execution_count": 93,
   "metadata": {},
   "outputs": [
    {
     "name": "stdout",
     "output_type": "stream",
     "text": [
      "Accuracy on training set:\n"
     ]
    },
    {
     "data": {
      "text/plain": [
       "0.7000131862335721"
      ]
     },
     "execution_count": 93,
     "metadata": {},
     "output_type": "execute_result"
    }
   ],
   "source": [
    "print('Accuracy on training set:')\n",
    "ensemble.score(pred_train_logp, y_train)"
   ]
  },
  {
   "cell_type": "code",
   "execution_count": 94,
   "metadata": {},
   "outputs": [
    {
     "name": "stdout",
     "output_type": "stream",
     "text": [
      "Accuracy on testing set:\n"
     ]
    },
    {
     "data": {
      "text/plain": [
       "0.6378340365682138"
      ]
     },
     "execution_count": 94,
     "metadata": {},
     "output_type": "execute_result"
    }
   ],
   "source": [
    "print('Accuracy on testing set:')\n",
    "ensemble.score(pred_test_logp, y_test)"
   ]
  },
  {
   "cell_type": "code",
   "execution_count": 95,
   "metadata": {},
   "outputs": [
    {
     "name": "stdout",
     "output_type": "stream",
     "text": [
      "Ensemble model balanced accuracy:\n",
      "0.6003604985110881\n"
     ]
    }
   ],
   "source": [
    "from sklearn.metrics import balanced_accuracy_score\n",
    "print('Ensemble model balanced accuracy:')\n",
    "print(balanced_accuracy_score(y_test, ensemble.predict(pred_test_logp)))"
   ]
  },
  {
   "cell_type": "code",
   "execution_count": 96,
   "metadata": {},
   "outputs": [
    {
     "name": "stdout",
     "output_type": "stream",
     "text": [
      "Ensemble model micro AUC:\n",
      "0.9344319889571022\n"
     ]
    }
   ],
   "source": [
    "print('Ensemble model micro AUC:')\n",
    "print(cal_auc(ensemble, pred_test_logp, y_test, 'micro'))"
   ]
  },
  {
   "cell_type": "code",
   "execution_count": 97,
   "metadata": {},
   "outputs": [
    {
     "name": "stdout",
     "output_type": "stream",
     "text": [
      "Ensemble model macro AUC:\n",
      "0.9174334126950697\n"
     ]
    }
   ],
   "source": [
    "print('Ensemble model macro AUC:')\n",
    "print(cal_auc(ensemble, pred_test_logp, y_test, 'macro'))"
   ]
  },
  {
   "cell_type": "code",
   "execution_count": 98,
   "metadata": {},
   "outputs": [
    {
     "name": "stdout",
     "output_type": "stream",
     "text": [
      "Ensemble model weighted AUC:\n",
      "0.9228822193774017\n"
     ]
    }
   ],
   "source": [
    "print('Ensemble model weighted AUC:')\n",
    "print(cal_auc(ensemble, pred_test_logp, y_test, 'weighted'))"
   ]
  },
  {
   "cell_type": "code",
   "execution_count": 99,
   "metadata": {},
   "outputs": [
    {
     "name": "stdout",
     "output_type": "stream",
     "text": [
      "Ensemble model MCC:\n",
      "0.6187572982283672\n"
     ]
    }
   ],
   "source": [
    "print('Ensemble model MCC:')\n",
    "print(matthews_corrcoef(y_test.values, ensemble.predict(pred_test_logp)))"
   ]
  },
  {
   "cell_type": "code",
   "execution_count": 100,
   "metadata": {},
   "outputs": [
    {
     "name": "stdout",
     "output_type": "stream",
     "text": [
      "              precision    recall  f1-score   support\n",
      "\n",
      "         ATL       0.67      0.63      0.65       155\n",
      "         BKN       0.70      0.50      0.58       213\n",
      "         BOS       0.64      0.70      0.67       811\n",
      "         CHA       0.65      0.64      0.65       143\n",
      "         CHI       0.66      0.58      0.61       477\n",
      "         CLE       0.62      0.54      0.57       400\n",
      "         DAL       0.70      0.63      0.66       414\n",
      "         DEN       0.72      0.68      0.70       209\n",
      "         DET       0.70      0.58      0.63       240\n",
      "         GSW       0.55      0.68      0.61       753\n",
      "         HOU       0.73      0.63      0.68       459\n",
      "         IND       0.76      0.57      0.65       190\n",
      "         LAC       0.66      0.45      0.54       166\n",
      "         LAL       0.51      0.71      0.59      1157\n",
      "         MEM       0.62      0.44      0.52       131\n",
      "         MIA       0.64      0.49      0.56       251\n",
      "         MIL       0.69      0.68      0.68       341\n",
      "         MIN       0.74      0.67      0.70       298\n",
      "         NOP       0.61      0.51      0.56       117\n",
      "         NYK       0.63      0.59      0.61       497\n",
      "         OKC       0.64      0.62      0.63       452\n",
      "         ORL       0.74      0.49      0.59       148\n",
      "         PHI       0.66      0.70      0.68       649\n",
      "         PHX       0.77      0.67      0.72       221\n",
      "         POR       0.72      0.65      0.68       325\n",
      "         SAC       0.76      0.70      0.73       205\n",
      "         SAS       0.59      0.60      0.59       437\n",
      "         SEA       0.44      0.28      0.34       170\n",
      "         TOR       0.67      0.78      0.72       898\n",
      "         UTA       0.74      0.70      0.72       229\n",
      "         WAS       0.64      0.53      0.58       220\n",
      "\n",
      "    accuracy                           0.64     11376\n",
      "   macro avg       0.66      0.60      0.63     11376\n",
      "weighted avg       0.65      0.64      0.64     11376\n",
      "\n"
     ]
    }
   ],
   "source": [
    "print(classification_report(y_test, ensemble.predict(pred_test_logp)))"
   ]
  }
 ],
 "metadata": {
  "kernelspec": {
   "display_name": "Python 3",
   "language": "python",
   "name": "python3"
  },
  "language_info": {
   "codemirror_mode": {
    "name": "ipython",
    "version": 3
   },
   "file_extension": ".py",
   "mimetype": "text/x-python",
   "name": "python",
   "nbconvert_exporter": "python",
   "pygments_lexer": "ipython3",
   "version": "3.6.9"
  }
 },
 "nbformat": 4,
 "nbformat_minor": 2
}
