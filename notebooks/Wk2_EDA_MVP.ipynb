{
 "cells": [
  {
   "cell_type": "markdown",
   "metadata": {},
   "source": [
    "# Week 2: Building a MVP model\n",
    "### Pipeline: Preprocessing + TF-IDF + Multinomial Naive Bayes"
   ]
  },
  {
   "cell_type": "code",
   "execution_count": 1,
   "metadata": {},
   "outputs": [],
   "source": [
    "import re\n",
    "import string\n",
    "import pandas as pd\n",
    "import numpy as np\n",
    "from datetime import datetime\n",
    "from datetime import date\n",
    "import matplotlib.pyplot as plt\n",
    "%matplotlib inline"
   ]
  },
  {
   "cell_type": "markdown",
   "metadata": {},
   "source": [
    "# Load Data"
   ]
  },
  {
   "cell_type": "code",
   "execution_count": 2,
   "metadata": {},
   "outputs": [],
   "source": [
    "dir_data = '../data/nba_reg18/'\n",
    "\n",
    "ds_sub = pd.DataFrame()\n",
    "ds_com = pd.DataFrame()\n",
    "\n",
    "nf_subs = 7 #7 files for submissions\n",
    "nf_coms = 12 #12 files for comments"
   ]
  },
  {
   "cell_type": "code",
   "execution_count": 3,
   "metadata": {},
   "outputs": [],
   "source": [
    "for icom in range(1, nf_subs+1):\n",
    "    path_ds = dir_data + 'nba_submissions_reg18_' + str(icom) + '.csv'\n",
    "    ds_cur = pd.read_csv(path_ds, index_col = 0, parse_dates = ['created'])\n",
    "    ds_sub = ds_sub.append(ds_cur).drop_duplicates()"
   ]
  },
  {
   "cell_type": "code",
   "execution_count": 4,
   "metadata": {},
   "outputs": [],
   "source": [
    "for icom in range(1, nf_coms+1):\n",
    "    path_ds = dir_data + 'nba_comments_reg18_' + str(icom) + '.csv'\n",
    "    ds_cur = pd.read_csv(path_ds, index_col = 0, parse_dates = ['created'])\n",
    "    ds_com = ds_com.append(ds_cur).drop_duplicates()"
   ]
  },
  {
   "cell_type": "code",
   "execution_count": 5,
   "metadata": {},
   "outputs": [
    {
     "name": "stdout",
     "output_type": "stream",
     "text": [
      "No. of threads:\n",
      "92383\n",
      "No. of comments:\n",
      "2064767\n"
     ]
    }
   ],
   "source": [
    "print('No. of threads:')\n",
    "print(ds_sub.shape[0])\n",
    "print('No. of comments:')\n",
    "print(ds_com.shape[0])"
   ]
  },
  {
   "cell_type": "markdown",
   "metadata": {},
   "source": [
    "### Standerdize Team Name"
   ]
  },
  {
   "cell_type": "code",
   "execution_count": 6,
   "metadata": {},
   "outputs": [],
   "source": [
    "import sys\n",
    "sys.path.insert(1, '../scripts') #add my scripts path\n",
    "from teamname_stdize import teamname_stdize"
   ]
  },
  {
   "cell_type": "code",
   "execution_count": 7,
   "metadata": {},
   "outputs": [],
   "source": [
    "# get rid of the weired pandas float nan\n",
    "ds_com.loc[ds_com['flair'].isnull().values, 'flair'] = 'NONE'\n",
    "ds_sub.loc[ds_sub['flair'].isnull().values, 'flair'] = 'NONE'"
   ]
  },
  {
   "cell_type": "code",
   "execution_count": 8,
   "metadata": {},
   "outputs": [],
   "source": [
    "# mapping to abbrev team name\n",
    "ds_sub = teamname_stdize(ds_sub.rename(columns={'flair':'team'}))\n",
    "ds_com = teamname_stdize(ds_com.rename(columns={'flair':'team'}))"
   ]
  },
  {
   "cell_type": "code",
   "execution_count": 9,
   "metadata": {},
   "outputs": [],
   "source": [
    "# load team names\n",
    "team_names = pd.read_csv('../data/teams', names = ['name', 'abbrs'])\n",
    "team_abbrs = team_names['abbrs'].to_list()"
   ]
  },
  {
   "cell_type": "code",
   "execution_count": 10,
   "metadata": {},
   "outputs": [
    {
     "name": "stdout",
     "output_type": "stream",
     "text": [
      "No. Total threads:\n",
      "92383\n",
      "No. Threads for 31 Teams:\n",
      "55475\n"
     ]
    }
   ],
   "source": [
    "print('No. Total threads:')\n",
    "print(ds_sub.shape[0])\n",
    "ds_sub = ds_sub.loc[ds_sub['team'].isin(team_abbrs), :]\n",
    "print('No. Threads for 31 Teams:')\n",
    "print(ds_sub.shape[0])"
   ]
  },
  {
   "cell_type": "code",
   "execution_count": 11,
   "metadata": {},
   "outputs": [
    {
     "name": "stdout",
     "output_type": "stream",
     "text": [
      "No. Total comments:\n",
      "2064767\n",
      "No. comments for 31 Teams:\n",
      "1562342\n"
     ]
    }
   ],
   "source": [
    "print('No. Total comments:')\n",
    "print(ds_com.shape[0])\n",
    "ds_com = ds_com.loc[ds_com['team'].isin(team_abbrs), :]\n",
    "print('No. comments for 31 Teams:')\n",
    "print(ds_com.shape[0])"
   ]
  },
  {
   "cell_type": "code",
   "execution_count": 12,
   "metadata": {},
   "outputs": [],
   "source": [
    "# put submissions and comments together\n",
    "ds = pd.concat([ds_sub[['author', 'team', 'title', 'created']].rename(columns = {'title':'text'}),\n",
    "                ds_com[['author', 'team', 'text', 'created']]],\n",
    "               ignore_index = True)"
   ]
  },
  {
   "cell_type": "code",
   "execution_count": 13,
   "metadata": {},
   "outputs": [
    {
     "name": "stdout",
     "output_type": "stream",
     "text": [
      "No. Total posts:\n",
      "1617817\n"
     ]
    }
   ],
   "source": [
    "print('No. Total posts:')\n",
    "print(ds.shape[0])"
   ]
  },
  {
   "cell_type": "code",
   "execution_count": 14,
   "metadata": {},
   "outputs": [
    {
     "data": {
      "text/plain": [
       "Text(0, 0.5, '# of Users')"
      ]
     },
     "execution_count": 14,
     "metadata": {},
     "output_type": "execute_result"
    },
    {
     "data": {
      "image/png": "[encoded data removed]",
      "text/plain": [
       "<Figure size 720x360 with 1 Axes>"
      ]
     },
     "metadata": {
      "needs_background": "light"
     },
     "output_type": "display_data"
    }
   ],
   "source": [
    "# plot the distribution of No. posts by user\n",
    "txt_by_au = ds.groupby('author')['author'].count()\n",
    "txt_by_au[(txt_by_au < 50)].hist(bins = 50, figsize=(10,5))\n",
    "plt.title('# of Posts by User')\n",
    "plt.xlabel('# of Posts')\n",
    "plt.ylabel('# of Users')"
   ]
  },
  {
   "cell_type": "code",
   "execution_count": 15,
   "metadata": {},
   "outputs": [
    {
     "data": {
      "text/plain": [
       "Text(0, 0.5, '# of Posts')"
      ]
     },
     "execution_count": 15,
     "metadata": {},
     "output_type": "execute_result"
    },
    {
     "data": {
      "image/png": "[encoded data removed]",
      "text/plain": [
       "<Figure size 720x360 with 1 Axes>"
      ]
     },
     "metadata": {
      "needs_background": "light"
     },
     "output_type": "display_data"
    }
   ],
   "source": [
    "# plot the fluctuation of No. posts across the season by day\n",
    "daily_posts = ds.groupby(ds['created'].dt.date)['text'].count()\n",
    "daily_posts[daily_posts.index<date(2019,4,11)].plot(figsize=(10,5))\n",
    "plt.title('# of Posts Across Time For 18-19 NBA Regular Season')\n",
    "plt.xlabel('Date')\n",
    "plt.ylabel('# of Posts')"
   ]
  },
  {
   "cell_type": "code",
   "execution_count": 16,
   "metadata": {},
   "outputs": [
    {
     "data": {
      "text/plain": [
       "created\n",
       "2019-02-07    35587\n",
       "2019-02-06    23043\n",
       "2019-01-31    22184\n",
       "2019-02-16    19762\n",
       "2019-02-05    18475\n",
       "2019-02-17    18271\n",
       "2019-02-01    17116\n",
       "2018-12-25    15008\n",
       "2019-01-19    14611\n",
       "2019-01-04    13831\n",
       "2019-02-04    13354\n",
       "2019-03-05    13245\n",
       "2019-02-13    12969\n",
       "2018-10-21    12914\n",
       "2018-10-17    12887\n",
       "2018-10-19    12760\n",
       "2019-01-03    12685\n",
       "2019-02-02    12661\n",
       "2019-04-09    12535\n",
       "2018-11-14    12335\n",
       "Name: text, dtype: int64"
      ]
     },
     "execution_count": 16,
     "metadata": {},
     "output_type": "execute_result"
    }
   ],
   "source": [
    "# look into top days:\n",
    "daily_posts.sort_values(ascending = False).head(n=20)\n",
    "# 2/7/2019: trade deadline\n",
    "# 2/16/2019: all-star weekend\n",
    "# 12/25/2018: Chrismas games, Lebron James injured"
   ]
  },
  {
   "cell_type": "markdown",
   "metadata": {},
   "source": [
    "# Text Preprocessing"
   ]
  },
  {
   "cell_type": "code",
   "execution_count": 17,
   "metadata": {},
   "outputs": [],
   "source": [
    "from preprocess import preprocess_one"
   ]
  },
  {
   "cell_type": "code",
   "execution_count": 18,
   "metadata": {},
   "outputs": [],
   "source": [
    "b_punc = True # we do want to remove punctuation\n",
    "ds['text'] = ds['text'].apply(lambda x: preprocess_one(x, b_punc))"
   ]
  },
  {
   "cell_type": "markdown",
   "metadata": {},
   "source": [
    "# Prep for Training"
   ]
  },
  {
   "cell_type": "code",
   "execution_count": 19,
   "metadata": {},
   "outputs": [],
   "source": [
    "# concat all texts by users\n",
    "ds_user = ds.groupby(['author', 'team'])['text'].apply(lambda x: ' '.join(x)).reset_index()"
   ]
  },
  {
   "cell_type": "code",
   "execution_count": 20,
   "metadata": {},
   "outputs": [
    {
     "data": {
      "text/plain": [
       "Text(0, 0.5, '# of Fans')"
      ]
     },
     "execution_count": 20,
     "metadata": {},
     "output_type": "execute_result"
    },
    {
     "data": {
      "image/png": "[encoded data removed]",
      "text/plain": [
       "<Figure size 720x360 with 1 Axes>"
      ]
     },
     "metadata": {
      "needs_background": "light"
     },
     "output_type": "display_data"
    }
   ],
   "source": [
    "# No. of users by team tags\n",
    "ds_user.groupby('team')['author'].count().sort_values(ascending=False).plot.bar(figsize=(10,5))\n",
    "plt.title('# of Fans by Team')\n",
    "plt.xlabel('Team')\n",
    "plt.ylabel('# of Fans')"
   ]
  },
  {
   "cell_type": "code",
   "execution_count": 21,
   "metadata": {},
   "outputs": [],
   "source": [
    "# feature extraction using tf-idf\n",
    "from sklearn.feature_extraction.text import TfidfVectorizer\n",
    "tfidf = TfidfVectorizer(max_features=1000, ngram_range=(1, 1), stop_words='english', max_df=.6)"
   ]
  },
  {
   "cell_type": "code",
   "execution_count": 22,
   "metadata": {},
   "outputs": [],
   "source": [
    "# split the data to train/test (80/20)\n",
    "from sklearn.model_selection import train_test_split\n",
    "X_train, X_test, y_train, y_test = train_test_split(ds_user['text'], ds_user['team'], test_size=0.20, random_state=0)"
   ]
  },
  {
   "cell_type": "code",
   "execution_count": 23,
   "metadata": {},
   "outputs": [],
   "source": [
    "# run tf-idf\n",
    "train_txt = tfidf.fit_transform(X_train)\n",
    "test_txt = tfidf.transform(X_test)"
   ]
  },
  {
   "cell_type": "code",
   "execution_count": 24,
   "metadata": {},
   "outputs": [
    {
     "data": {
      "text/plain": [
       "MultinomialNB(alpha=1.0, class_prior=None, fit_prior=True)"
      ]
     },
     "execution_count": 24,
     "metadata": {},
     "output_type": "execute_result"
    }
   ],
   "source": [
    "# train naive bayes\n",
    "from sklearn.naive_bayes import MultinomialNB\n",
    "tfidf_nb = MultinomialNB()\n",
    "tfidf_nb.fit(train_txt, y_train)"
   ]
  },
  {
   "cell_type": "code",
   "execution_count": 25,
   "metadata": {},
   "outputs": [
    {
     "name": "stdout",
     "output_type": "stream",
     "text": [
      "Accuracy on Training Set:\n",
      "0.2823914823914824\n"
     ]
    }
   ],
   "source": [
    "print('Accuracy on Training Set:')\n",
    "print(tfidf_nb.score(train_txt, y_train))"
   ]
  },
  {
   "cell_type": "code",
   "execution_count": 26,
   "metadata": {},
   "outputs": [
    {
     "name": "stdout",
     "output_type": "stream",
     "text": [
      "Accuracy on Testing Set:\n",
      "0.27298536798427603\n"
     ]
    }
   ],
   "source": [
    "print('Accuracy on Testing Set:')\n",
    "print(tfidf_nb.score(test_txt, y_test))"
   ]
  },
  {
   "cell_type": "code",
   "execution_count": 27,
   "metadata": {},
   "outputs": [
    {
     "name": "stdout",
     "output_type": "stream",
     "text": [
      "Testing accuracy based on prior only:\n",
      "0.05344053128382258\n"
     ]
    }
   ],
   "source": [
    "# predict based on priors (baseline model 1), just shuffle the tags\n",
    "ds_base = ds['team'].to_frame()\n",
    "ds_base['pred'] = ds_base['team'].sample(frac=1, random_state=0).reset_index(drop=True)\n",
    "print('Testing accuracy based on prior only:')\n",
    "print((ds_base['team'] == ds_base['pred']).mean())"
   ]
  },
  {
   "cell_type": "code",
   "execution_count": 28,
   "metadata": {},
   "outputs": [
    {
     "name": "stdout",
     "output_type": "stream",
     "text": [
      "Chance Level:\n",
      "0.03225806451612903\n"
     ]
    }
   ],
   "source": [
    "# theoritical baseline\n",
    "print('Chance Level:')\n",
    "print(1/31)"
   ]
  },
  {
   "cell_type": "markdown",
   "metadata": {},
   "source": [
    "## Multi-class AUC on testing set"
   ]
  },
  {
   "cell_type": "code",
   "execution_count": 29,
   "metadata": {},
   "outputs": [],
   "source": [
    "from cal_auc import cal_auc"
   ]
  },
  {
   "cell_type": "code",
   "execution_count": 30,
   "metadata": {
    "scrolled": true
   },
   "outputs": [
    {
     "name": "stdout",
     "output_type": "stream",
     "text": [
      "MVP model micro AUC:\n",
      "0.7888612690837313\n"
     ]
    }
   ],
   "source": [
    "print('MVP model micro AUC:')\n",
    "print(cal_auc(tfidf_nb, test_txt, y_test, 'micro'))"
   ]
  },
  {
   "cell_type": "code",
   "execution_count": 31,
   "metadata": {},
   "outputs": [
    {
     "name": "stdout",
     "output_type": "stream",
     "text": [
      "MVP model macro AUC:\n",
      "0.7399316318167074\n"
     ]
    }
   ],
   "source": [
    "print('MVP model macro AUC:')\n",
    "print(cal_auc(tfidf_nb, test_txt, y_test, 'macro'))"
   ]
  },
  {
   "cell_type": "code",
   "execution_count": 32,
   "metadata": {},
   "outputs": [
    {
     "name": "stdout",
     "output_type": "stream",
     "text": [
      "MVP model weighted AUC:\n",
      "0.7401592641448181\n"
     ]
    }
   ],
   "source": [
    "print('MVP model weighted AUC:')\n",
    "print(cal_auc(tfidf_nb, test_txt, y_test, 'weighted'))"
   ]
  },
  {
   "cell_type": "code",
   "execution_count": 39,
   "metadata": {},
   "outputs": [
    {
     "name": "stdout",
     "output_type": "stream",
     "text": [
      "MVP model MCC:\n",
      "0.24032247836180187\n"
     ]
    }
   ],
   "source": [
    "from sklearn.metrics import matthews_corrcoef\n",
    "print('MVP model MCC:')\n",
    "print(matthews_corrcoef(y_test, tfidf_nb.predict(test_txt)))"
   ]
  },
  {
   "cell_type": "code",
   "execution_count": 34,
   "metadata": {},
   "outputs": [
    {
     "name": "stdout",
     "output_type": "stream",
     "text": [
      "              precision    recall  f1-score   support\n",
      "\n",
      "         ATL       0.70      0.12      0.21       187\n",
      "         BKN       0.67      0.07      0.13       243\n",
      "         BOS       0.39      0.33      0.36       995\n",
      "         CHA       0.55      0.07      0.12       184\n",
      "         CHI       0.54      0.17      0.26       583\n",
      "         CLE       0.59      0.05      0.10       500\n",
      "         DAL       0.52      0.29      0.37       457\n",
      "         DEN       0.73      0.14      0.24       256\n",
      "         DET       0.60      0.11      0.19       280\n",
      "         GSW       0.29      0.28      0.29       897\n",
      "         HOU       0.51      0.17      0.26       505\n",
      "         IND       0.61      0.06      0.11       225\n",
      "         LAC       0.00      0.00      0.00       195\n",
      "         LAL       0.15      0.82      0.25      1442\n",
      "         MEM       0.74      0.11      0.20       150\n",
      "         MIA       0.63      0.06      0.10       302\n",
      "         MIL       0.63      0.16      0.26       394\n",
      "         MIN       0.66      0.19      0.29       349\n",
      "         NOP       0.25      0.01      0.01       159\n",
      "         NYK       0.47      0.15      0.22       598\n",
      "         OKC       0.56      0.22      0.32       518\n",
      "         ORL       0.33      0.01      0.01       168\n",
      "         PHI       0.54      0.34      0.42       771\n",
      "         PHX       0.72      0.20      0.31       281\n",
      "         POR       0.66      0.21      0.32       429\n",
      "         SAC       0.61      0.08      0.15       261\n",
      "         SAS       0.67      0.18      0.29       534\n",
      "         SEA       0.00      0.00      0.00       201\n",
      "         TOR       0.35      0.46      0.40      1152\n",
      "         UTA       0.63      0.26      0.36       262\n",
      "         WAS       0.38      0.04      0.08       259\n",
      "\n",
      "    accuracy                           0.27     13737\n",
      "   macro avg       0.51      0.17      0.21     13737\n",
      "weighted avg       0.46      0.27      0.26     13737\n",
      "\n"
     ]
    },
    {
     "name": "stderr",
     "output_type": "stream",
     "text": [
      "/home/bearsun/anaconda3/envs/insight/lib/python3.6/site-packages/sklearn/metrics/classification.py:1437: UndefinedMetricWarning: Precision and F-score are ill-defined and being set to 0.0 in labels with no predicted samples.\n",
      "  'precision', 'predicted', average, warn_for)\n"
     ]
    }
   ],
   "source": [
    "from sklearn.metrics import classification_report\n",
    "print(classification_report(y_test, tfidf_nb.predict(test_txt)))"
   ]
  },
  {
   "cell_type": "markdown",
   "metadata": {},
   "source": [
    "## Cross-Validation"
   ]
  },
  {
   "cell_type": "code",
   "execution_count": 35,
   "metadata": {},
   "outputs": [],
   "source": [
    "from sklearn.model_selection import cross_val_score\n",
    "from sklearn.pipeline import Pipeline"
   ]
  },
  {
   "cell_type": "code",
   "execution_count": 36,
   "metadata": {},
   "outputs": [],
   "source": [
    "estimators = [('tfidf', TfidfVectorizer(max_features=1000, ngram_range=(1, 1), stop_words='english', max_df=.6)),\n",
    "              ('clf', MultinomialNB())]\n",
    "mvp = Pipeline(estimators)"
   ]
  },
  {
   "cell_type": "code",
   "execution_count": 37,
   "metadata": {},
   "outputs": [
    {
     "name": "stdout",
     "output_type": "stream",
     "text": [
      "5-fold CV accuracies:\n",
      "[0.26354545 0.25725198 0.2651984  0.2557589  0.25926938]\n",
      "Mean accruacy:\n",
      "0.26020482243249926\n"
     ]
    }
   ],
   "source": [
    "scores = cross_val_score(mvp, X_train, y_train, cv=5, n_jobs = 3)\n",
    "print('5-fold CV accuracies:')\n",
    "print(scores)\n",
    "print('Mean accruacy:')\n",
    "print(np.mean(scores))"
   ]
  },
  {
   "cell_type": "code",
   "execution_count": 38,
   "metadata": {},
   "outputs": [
    {
     "name": "stdout",
     "output_type": "stream",
     "text": [
      "5-fold CV weighted AUCs:\n",
      "[0.73703086 0.73234204 0.73517667 0.72908905 0.73671003]\n",
      "Mean weighted AUC:\n",
      "0.7340697294833756\n"
     ]
    }
   ],
   "source": [
    "auc = cross_val_score(mvp, X_train, y_train, scoring = cal_auc, cv=5, n_jobs = 3)\n",
    "print('5-fold CV weighted AUCs:')\n",
    "print(auc)\n",
    "print('Mean weighted AUC:')\n",
    "print(np.mean(auc))"
   ]
  }
 ],
 "metadata": {
  "kernelspec": {
   "display_name": "Python 3",
   "language": "python",
   "name": "python3"
  },
  "language_info": {
   "codemirror_mode": {
    "name": "ipython",
    "version": 3
   },
   "file_extension": ".py",
   "mimetype": "text/x-python",
   "name": "python",
   "nbconvert_exporter": "python",
   "pygments_lexer": "ipython3",
   "version": "3.6.9"
  }
 },
 "nbformat": 4,
 "nbformat_minor": 2
}
