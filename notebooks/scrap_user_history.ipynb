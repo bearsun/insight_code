{
 "cells": [
  {
   "cell_type": "code",
   "execution_count": 1,
   "metadata": {},
   "outputs": [],
   "source": [
    "import praw\n",
    "import pandas as pd\n",
    "import time"
   ]
  },
  {
   "cell_type": "code",
   "execution_count": 2,
   "metadata": {},
   "outputs": [],
   "source": [
    "authors = pd.read_csv('authors.csv')"
   ]
  },
  {
   "cell_type": "code",
   "execution_count": 3,
   "metadata": {},
   "outputs": [],
   "source": [
    "reddit = praw.Reddit('bot1')"
   ]
  },
  {
   "cell_type": "code",
   "execution_count": 4,
   "metadata": {},
   "outputs": [],
   "source": [
    "def get_history(user):\n",
    "    redditor = reddit.redditor(name=user)\n",
    "    cnt = 0\n",
    "    subs = ''\n",
    "    try:\n",
    "        for comment in redditor.comments.new(limit=None):\n",
    "            subs += ' ' + comment.subreddit.display_name\n",
    "            cnt+=1\n",
    "    except:\n",
    "        print('wait for server...')\n",
    "        time.sleep(10)\n",
    "    entry = pd.DataFrame([[user, subs, cnt]], columns=['user', 'history', 'count'])\n",
    "    return entry"
   ]
  },
  {
   "cell_type": "code",
   "execution_count": 5,
   "metadata": {},
   "outputs": [],
   "source": [
    "ds = pd.DataFrame()"
   ]
  },
  {
   "cell_type": "code",
   "execution_count": 7,
   "metadata": {},
   "outputs": [],
   "source": [
    "part = authors.iloc[:, 1]"
   ]
  },
  {
   "cell_type": "code",
   "execution_count": 10,
   "metadata": {},
   "outputs": [
    {
     "name": "stdout",
     "output_type": "stream",
     "text": [
      "wait for server...\n",
      "75.91240875912408%\n",
      "76.64233576642336%\n",
      "wait for server...\n",
      "77.37226277372264%\n",
      "78.1021897810219%\n",
      "78.83211678832117%\n",
      "79.56204379562044%\n",
      "wait for server...\n",
      "80.2919708029197%\n",
      "81.02189781021897%\n",
      "wait for server...\n",
      "81.75182481751825%\n",
      "82.48175182481752%\n",
      "83.21167883211679%\n",
      "83.94160583941606%\n",
      "wait for server...\n",
      "84.67153284671532%\n",
      "85.40145985401459%\n",
      "86.13138686131386%\n",
      "wait for server...\n",
      "86.86131386861314%\n",
      "87.59124087591242%\n",
      "88.32116788321169%\n",
      "wait for server...\n",
      "89.05109489051095%\n",
      "89.78102189781022%\n",
      "90.51094890510949%\n",
      "91.24087591240875%\n",
      "91.97080291970804%\n",
      "wait for server...\n",
      "92.7007299270073%\n",
      "93.43065693430657%\n",
      "94.16058394160584%\n",
      "94.8905109489051%\n",
      "95.62043795620438%\n",
      "wait for server...\n",
      "96.35036496350365%\n",
      "wait for server...\n",
      "wait for server...\n",
      "97.08029197080292%\n",
      "97.8102189781022%\n",
      "98.54014598540147%\n",
      "99.27007299270073%\n",
      "100.0%\n"
     ]
    }
   ],
   "source": [
    "n = part.shape[0]\n",
    "i = 0\n",
    "for user in part:\n",
    "    i+=1\n",
    "    ds = ds.append(get_history(user), ignore_index=True)\n",
    "    if i%100 == 0:\n",
    "        print(str(i/n*100)+'%')"
   ]
  },
  {
   "cell_type": "code",
   "execution_count": 11,
   "metadata": {},
   "outputs": [],
   "source": [
    "ds.to_csv('bot1_final.csv')"
   ]
  }
 ],
 "metadata": {
  "kernelspec": {
   "display_name": "Python 3",
   "language": "python",
   "name": "python3"
  },
  "language_info": {
   "codemirror_mode": {
    "name": "ipython",
    "version": 3
   },
   "file_extension": ".py",
   "mimetype": "text/x-python",
   "name": "python",
   "nbconvert_exporter": "python",
   "pygments_lexer": "ipython3",
   "version": "3.6.9"
  }
 },
 "nbformat": 4,
 "nbformat_minor": 2
}
